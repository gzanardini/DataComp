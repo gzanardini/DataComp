{
 "cells": [
  {
   "cell_type": "markdown",
   "metadata": {},
   "source": [
    "# Imports"
   ]
  },
  {
   "cell_type": "code",
   "execution_count": 1,
   "metadata": {},
   "outputs": [],
   "source": [
    "import torch\n",
    "import torch.nn as nn\n",
    "import torch.nn.functional as F\n",
    "import torch.optim as optim\n",
    "import numpy as np\n",
    "import matplotlib.pyplot as plt\n",
    "from torch.utils.data import DataLoader, Dataset\n",
    "from torchvision import datasets, transforms\n",
    "from tqdm import tqdm\n",
    "\n",
    "import gc\n",
    "import random\n",
    "\n",
    "# Set random seed for reproducibility\n",
    "seed = 42\n",
    "torch.manual_seed(seed)\n",
    "np.random.seed(seed)\n",
    "random.seed(seed)\n",
    "\n",
    "# Set device\n",
    "device = torch.device('cuda' if torch.cuda.is_available() else 'cpu')\n",
    "\n",
    "#clean cuda\n",
    "gc.collect()\n",
    "torch.cuda.empty_cache()\n",
    "torch.backends.cuda.max_split_size_mb = 0  # Set to 0 to disable splitting"
   ]
  },
  {
   "cell_type": "code",
   "execution_count": 2,
   "metadata": {},
   "outputs": [],
   "source": [
    "# load mnist\n",
    "dataset = datasets.MNIST(root='./data', download=True,\n",
    "                       transform=transforms.Compose([\n",
    "                           transforms.Resize(28),\n",
    "                           transforms.ToTensor(),\n",
    "                           transforms.Normalize((0.5,), (0.5,)),\n",
    "                       ]))\n",
    "\n",
    "BATCH_SIZE = 512\n",
    "\n",
    "dataloader = DataLoader(dataset, batch_size=BATCH_SIZE, shuffle=False)"
   ]
  },
  {
   "cell_type": "markdown",
   "metadata": {},
   "source": [
    "# DCGAN Architecture and custom functions\n",
    "same architecture as radford2015"
   ]
  },
  {
   "cell_type": "code",
   "execution_count": 3,
   "metadata": {},
   "outputs": [],
   "source": [
    "D_CONV_DIM = 64\n",
    "G_CONV_DIM = 64\n",
    "Z_SIZE = 100\n",
    "\n",
    "# number of color channels in the images. For grayscale images this is 1\n",
    "nc = 1\n",
    "# number of gpu's available\n",
    "ngpu = 1\n",
    "# input noise dimension\n",
    "nz = Z_SIZE\n",
    "# number of generator filters\n",
    "ngf = G_CONV_DIM\n",
    "#number of discriminator filters\n",
    "ndf = D_CONV_DIM\n",
    "\n",
    "# custom weights initialization called on netG and netD\n",
    "def weights_init(m):\n",
    "    classname = m.__class__.__name__\n",
    "    if classname.find('Conv') != -1:\n",
    "        m.weight.data.normal_(0.0, 0.02)\n",
    "    elif classname.find('BatchNorm') != -1:\n",
    "        m.weight.data.normal_(1.0, 0.02)\n",
    "        m.bias.data.fill_(0)\n",
    "\n",
    "class Generator(nn.Module):\n",
    "    def __init__(self, ngpu, nc=1, nz=100, ngf=64):\n",
    "        super(Generator, self).__init__()\n",
    "        self.ngpu = ngpu\n",
    "        self.main = nn.Sequential(\n",
    "            # input is Z, going into a convolution\n",
    "            nn.ConvTranspose2d(     nz, ngf * 8, 4, 1, 0, bias=False),\n",
    "            nn.BatchNorm2d(ngf * 8),\n",
    "            nn.ReLU(True),\n",
    "            # state size. (ngf*8) x 4 x 4\n",
    "            nn.ConvTranspose2d(ngf * 8, ngf * 4, 4, 2, 1, bias=False),\n",
    "            nn.BatchNorm2d(ngf * 4),\n",
    "            nn.ReLU(True),\n",
    "            # state size. (ngf*4) x 8 x 8\n",
    "            nn.ConvTranspose2d(ngf * 4, ngf * 2, 4, 2, 1, bias=False),\n",
    "            nn.BatchNorm2d(ngf * 2),\n",
    "            nn.ReLU(True),\n",
    "            # state size. (ngf*2) x 16 x 16\n",
    "            nn.ConvTranspose2d(ngf * 2,     ngf, 4, 2, 1, bias=False),\n",
    "            nn.BatchNorm2d(ngf),\n",
    "            nn.ReLU(True),\n",
    "            nn.ConvTranspose2d(    ngf,      nc, kernel_size=1, stride=1, padding=2, bias=False),\n",
    "            nn.Tanh()\n",
    "        )\n",
    "\n",
    "    def forward(self, input):\n",
    "        if input.is_cuda and self.ngpu > 1:\n",
    "            output = nn.parallel.data_parallel(self.main, input, range(self.ngpu))\n",
    "        else:\n",
    "            output = self.main(input)\n",
    "        return output\n",
    "\n",
    "\n",
    "class Discriminator(nn.Module):\n",
    "    def __init__(self, ngpu, nc=1, ndf=64):\n",
    "        super(Discriminator, self).__init__()\n",
    "        self.ngpu = ngpu\n",
    "        self.main = nn.Sequential(\n",
    "            # input is (nc) x 64 x 64\n",
    "            nn.Conv2d(nc, ndf, 4, 2, 1, bias=False),\n",
    "            nn.LeakyReLU(0.2, inplace=True),\n",
    "            # state size. (ndf) x 32 x 32\n",
    "            nn.Conv2d(ndf, ndf * 2, 4, 2, 1, bias=False),\n",
    "            nn.BatchNorm2d(ndf * 2),\n",
    "            nn.LeakyReLU(0.2, inplace=True),\n",
    "            # state size. (ndf*2) x 16 x 16\n",
    "            nn.Conv2d(ndf * 2, ndf * 4, 4, 2, 1, bias=False),\n",
    "            nn.BatchNorm2d(ndf * 4),\n",
    "            nn.LeakyReLU(0.2, inplace=True),\n",
    "            # state size. (ndf*4) x 8 x 8\n",
    "            nn.Conv2d(ndf * 4, 1, 4, 2, 1, bias=False),\n",
    "            nn.Sigmoid()\n",
    "        )\n",
    "\n",
    "    def forward(self, input):\n",
    "        if input.is_cuda and self.ngpu > 1:\n",
    "            output = nn.parallel.data_parallel(self.main, input, range(self.ngpu))\n",
    "        else:\n",
    "            output = self.main(input)\n",
    "        return output.view(-1, 1).squeeze(1)"
   ]
  },
  {
   "cell_type": "code",
   "execution_count": 4,
   "metadata": {},
   "outputs": [],
   "source": [
    "def refresh_bar(bar, epoch, loss_D, loss_G):\n",
    "    bar.update()\n",
    "    bar.set_description(\"Epoch: {}, Loss D: {:.4f}, Loss G: {:.4f}\".format(epoch, loss_D, loss_G))\n",
    "    bar.update()"
   ]
  },
  {
   "cell_type": "code",
   "execution_count": 79,
   "metadata": {},
   "outputs": [],
   "source": [
    "def recon_error(generator, x, z=None):\n",
    "    if z is None:\n",
    "        z = torch.randn(x.size(0), Z_SIZE, 1, 1, device=device)\n",
    "    output = generator(z)\n",
    "    \n",
    "    # Calculate the squared L2 norm of the difference between output and x\n",
    "    loss = torch.norm(output - x, p=2)**2\n",
    "    return loss.item()/784\n",
    "\n",
    "def measurement_error(generator, Y, W, phase_perturbation=False, case_3=False, z=None):\n",
    "    if z is None:\n",
    "        z = torch.randn(Y.size(0), Y.size(1), 1, 1, device=device) \n",
    "    output = generator(z).squeeze(1)        # Generate output from the GAN generator\n",
    "\n",
    "    W = W.to(device)\n",
    "\n",
    "    # Calculate the product of matrix W and gan output\n",
    "    WG = torch.matmul(output.view(output.size(0), -1),W)\n",
    "\n",
    "\n",
    "    if case_3:\n",
    "        WG = torch.abs(WG)\n",
    "\n",
    "    if phase_perturbation:\n",
    "        Y=torch.abs(Y)\n",
    "\n",
    "    # Calculate the squared L2 norm of the difference between WG and Y\n",
    "    loss = torch.norm(WG - Y, p=2)**2\n",
    "    \n",
    "    return loss.item()/Y.size(0)\n"
   ]
  },
  {
   "cell_type": "code",
   "execution_count": 7,
   "metadata": {},
   "outputs": [],
   "source": [
    "def my_loss(Y, z, generator, W, phase_noise=True, alpha=None, device=device):\n",
    "    x_hat = generator(z)\n",
    "    x_hat = x_hat.view(-1, 784) \n",
    "    W = W.to(device)\n",
    "\n",
    "    y_hat = torch.mm(x_hat,W).squeeze(0)\n",
    "    alpha = 0.1 if alpha is None else alpha\n",
    "\n",
    "    if phase_noise:\n",
    "        loss = torch.norm(torch.abs(Y) - torch.abs(y_hat), 2)**2 + alpha * torch.norm(z, 2)**2\n",
    "    else:\n",
    "        loss = torch.norm(Y - y_hat, 2)**2 + alpha * torch.norm(z, 2)**2\n",
    "    return loss"
   ]
  },
  {
   "cell_type": "code",
   "execution_count": 8,
   "metadata": {},
   "outputs": [],
   "source": [
    "def train(generator, discriminator, dataloader, epochs, lr, beta1, beta2, model_name):\n",
    "    generator = generator.to(device)\n",
    "    discriminator = discriminator.to(device)\n",
    "    generator.apply(weights_init)\n",
    "    discriminator.apply(weights_init)\n",
    "    optimizerD = optim.Adam(discriminator.parameters(), lr=lr, betas=(beta1, beta2))\n",
    "    optimizerG = optim.Adam(generator.parameters(), lr=lr, betas=(beta1, beta2))\n",
    "    criterion = nn.BCELoss()\n",
    "\n",
    "    fake_label = 0\n",
    "    real_label = 1\n",
    "\n",
    "    bar = tqdm(range(epochs), position=0)\n",
    "    for epoch in range(epochs):\n",
    "        for i, data in enumerate(dataloader):\n",
    "            ############################\n",
    "            # (1) Update D network: maximize log(D(x)) + log(1 - D(G(z)))\n",
    "            ###########################\n",
    "            # train with real\n",
    "            discriminator.zero_grad()\n",
    "            real_cpu = data[0].to(device)\n",
    "            batch_size = real_cpu.size(0)\n",
    "            label = torch.full((batch_size,), real_label, device=device).float()\n",
    "\n",
    "            output = discriminator(real_cpu)\n",
    "            \n",
    "            errD_real = criterion(output, label)\n",
    "            errD_real.backward()\n",
    "            D_x = output.mean().item()\n",
    "\n",
    "            # train with fake\n",
    "            noise = torch.randn(batch_size, Z_SIZE, 1, 1, device=device)\n",
    "\n",
    "            fake = generator(noise)\n",
    "            label.fill_(fake_label)\n",
    "            output = discriminator(fake.detach())\n",
    "            errD_fake = criterion(output, label)\n",
    "            errD_fake.backward()\n",
    "            D_G_z1 = output.mean().item()\n",
    "            errD = errD_real + errD_fake\n",
    "            optimizerD.step()\n",
    "            ############################\n",
    "            # (2) Update G network: maximize log(D(G(z)))\n",
    "            ###########################\n",
    "            generator.zero_grad()\n",
    "            label.fill_(real_label) \n",
    "            output = discriminator(fake)\n",
    "            errG = criterion(output, label)\n",
    "            errG.backward()\n",
    "            D_G_z2 = output.mean().item()\n",
    "            optimizerG.step()\n",
    "            \n",
    "            refresh_bar(bar, epoch, errD.item(), errG.item())\n",
    "\n",
    "\n",
    "    if epoch == 99 or (epoch+1)%10==0:\n",
    "        torch.save(generator.state_dict(), model_name+'_Z='+str(Z_SIZE) +'_generator.pth')\n",
    "        torch.save(discriminator.state_dict(), model_name+'_Z='+str(Z_SIZE) + '_discriminator.pth')"
   ]
  },
  {
   "cell_type": "markdown",
   "metadata": {},
   "source": [
    "# Bora-like approach"
   ]
  },
  {
   "cell_type": "code",
   "execution_count": 9,
   "metadata": {},
   "outputs": [
    {
     "name": "stderr",
     "output_type": "stream",
     "text": [
      "Epoch: 0, Loss D: 0.5196, Loss G: 4.2839:  48%|████▊     | 95/200 [00:35<00:38,  2.72it/s]"
     ]
    },
    {
     "ename": "KeyboardInterrupt",
     "evalue": "",
     "output_type": "error",
     "traceback": [
      "\u001b[1;31m---------------------------------------------------------------------------\u001b[0m",
      "\u001b[1;31mKeyboardInterrupt\u001b[0m                         Traceback (most recent call last)",
      "Cell \u001b[1;32mIn[9], line 6\u001b[0m\n\u001b[0;32m      4\u001b[0m generator \u001b[38;5;241m=\u001b[39m Generator(ngpu, nc, Z_SIZE, ngf)\u001b[38;5;241m.\u001b[39mto(device)\n\u001b[0;32m      5\u001b[0m discriminator \u001b[38;5;241m=\u001b[39m Discriminator(ngpu, nc, ndf)\u001b[38;5;241m.\u001b[39mto(device)\n\u001b[1;32m----> 6\u001b[0m \u001b[43mtrain\u001b[49m\u001b[43m(\u001b[49m\u001b[43mgenerator\u001b[49m\u001b[43m,\u001b[49m\u001b[43m \u001b[49m\u001b[43mdiscriminator\u001b[49m\u001b[43m,\u001b[49m\u001b[43m \u001b[49m\u001b[43mdataloader\u001b[49m\u001b[43m,\u001b[49m\u001b[43m \u001b[49m\u001b[38;5;241;43m200\u001b[39;49m\u001b[43m,\u001b[49m\u001b[43m \u001b[49m\u001b[38;5;241;43m0.0002\u001b[39;49m\u001b[43m,\u001b[49m\u001b[43m \u001b[49m\u001b[38;5;241;43m0.5\u001b[39;49m\u001b[43m,\u001b[49m\u001b[43m \u001b[49m\u001b[38;5;241;43m0.999\u001b[39;49m\u001b[43m,\u001b[49m\u001b[43m \u001b[49m\u001b[38;5;124;43m'\u001b[39;49m\u001b[38;5;124;43mbora_mnist_gan\u001b[39;49m\u001b[38;5;124;43m'\u001b[39;49m\u001b[43m)\u001b[49m\n",
      "Cell \u001b[1;32mIn[8], line 39\u001b[0m, in \u001b[0;36mtrain\u001b[1;34m(generator, discriminator, dataloader, epochs, lr, beta1, beta2, model_name)\u001b[0m\n\u001b[0;32m     37\u001b[0m errD_fake \u001b[38;5;241m=\u001b[39m criterion(output, label)\n\u001b[0;32m     38\u001b[0m errD_fake\u001b[38;5;241m.\u001b[39mbackward()\n\u001b[1;32m---> 39\u001b[0m D_G_z1 \u001b[38;5;241m=\u001b[39m \u001b[43moutput\u001b[49m\u001b[38;5;241;43m.\u001b[39;49m\u001b[43mmean\u001b[49m\u001b[43m(\u001b[49m\u001b[43m)\u001b[49m\u001b[38;5;241;43m.\u001b[39;49m\u001b[43mitem\u001b[49m\u001b[43m(\u001b[49m\u001b[43m)\u001b[49m\n\u001b[0;32m     40\u001b[0m errD \u001b[38;5;241m=\u001b[39m errD_real \u001b[38;5;241m+\u001b[39m errD_fake\n\u001b[0;32m     41\u001b[0m optimizerD\u001b[38;5;241m.\u001b[39mstep()\n",
      "\u001b[1;31mKeyboardInterrupt\u001b[0m: "
     ]
    }
   ],
   "source": [
    "LATENT_SIZES = [100,200,300]\n",
    "\n",
    "for Z_SIZE in LATENT_SIZES:\n",
    "    generator = Generator(ngpu, nc, Z_SIZE, ngf).to(device)\n",
    "    discriminator = Discriminator(ngpu, nc, ndf).to(device)\n",
    "    train(generator, discriminator, dataloader, 200, 0.0002, 0.5, 0.999, 'bora_mnist_gan')"
   ]
  },
  {
   "cell_type": "markdown",
   "metadata": {},
   "source": [
    "### Evaluate Bora Models"
   ]
  },
  {
   "cell_type": "code",
   "execution_count": 10,
   "metadata": {},
   "outputs": [],
   "source": [
    "#import the W matrices and noise vectors\n",
    "W_10=np.load('W_10.npy')\n",
    "W_25=np.load('W_25.npy')\n",
    "W_50=np.load('W_50.npy')\n",
    "W_100=np.load('W_100.npy')\n",
    "W_200=np.load('W_200.npy')\n",
    "W_300=np.load('W_300.npy')\n",
    "\n",
    "#convert the W and noise vectors to tensors\n",
    "W_10=torch.tensor(W_10, dtype=torch.float32)\n",
    "W_25=torch.tensor(W_25, dtype=torch.float32)\n",
    "W_50=torch.tensor(W_50, dtype=torch.float32)\n",
    "W_100=torch.tensor(W_100, dtype=torch.float32)\n",
    "W_200=torch.tensor(W_200, dtype=torch.float32)\n",
    "W_300=torch.tensor(W_300, dtype=torch.float32)"
   ]
  },
  {
   "cell_type": "code",
   "execution_count": 12,
   "metadata": {},
   "outputs": [
    {
     "name": "stderr",
     "output_type": "stream",
     "text": [
      "Epoch: 0, Loss D: 0.5196, Loss G: 4.2839:  48%|████▊     | 96/200 [01:28<01:35,  1.09it/s]\n"
     ]
    }
   ],
   "source": [
    "# load all dataset from the dataloader\n",
    "data = []\n",
    "for i, d in enumerate(dataloader):\n",
    "    data.append(d[0])\n",
    "data = torch.cat(data, dim=0)\n",
    "data_full= data.to(device)"
   ]
  },
  {
   "cell_type": "code",
   "execution_count": 13,
   "metadata": {},
   "outputs": [
    {
     "name": "stdout",
     "output_type": "stream",
     "text": [
      "torch.Size([4, 28, 28])\n"
     ]
    },
    {
     "data": {
      "image/png": "[encoded data removed]",
      "text/plain": [
       "<Figure size 640x480 with 4 Axes>"
      ]
     },
     "metadata": {},
     "output_type": "display_data"
    }
   ],
   "source": [
    "#print the 1st 4 mnist digits\n",
    "\n",
    "data=data_full[:4].squeeze(1)\n",
    "\n",
    "print(data.size())\n",
    "\n",
    "plt.figure()\n",
    "plt.subplot(141)\n",
    "plt.imshow(data[0].squeeze().detach().cpu().numpy(), cmap='gray')\n",
    "plt.subplot(142)\n",
    "plt.imshow(data[1].squeeze().detach().cpu().numpy(), cmap='gray')\n",
    "plt.subplot(143)\n",
    "plt.imshow(data[2].squeeze().detach().cpu().numpy(), cmap='gray')\n",
    "plt.subplot(144)\n",
    "plt.imshow(data[3].squeeze().detach().cpu().numpy(), cmap='gray')\n",
    "plt.show()"
   ]
  },
  {
   "cell_type": "markdown",
   "metadata": {},
   "source": [
    "### optimize bora loss w.r.t. z"
   ]
  },
  {
   "cell_type": "code",
   "execution_count": null,
   "metadata": {},
   "outputs": [],
   "source": [
    "# clean cuda memory\n",
    "torch.cuda.empty_cache()"
   ]
  },
  {
   "cell_type": "code",
   "execution_count": 98,
   "metadata": {},
   "outputs": [
    {
     "name": "stdout",
     "output_type": "stream",
     "text": [
      "Size\n",
      "Z: 200  M: 100\n"
     ]
    },
    {
     "name": "stderr",
     "output_type": "stream",
     "text": [
      "Loss: 6986.8428:  48%|████▊     | 9526/20000 [03:36<03:58, 43.98it/s]\n",
      "Loss: 56883.9453:   0%|          | 0/20000 [00:00<?, ?it/s]"
     ]
    },
    {
     "name": "stdout",
     "output_type": "stream",
     "text": [
      "opt for z\n"
     ]
    },
    {
     "name": "stderr",
     "output_type": "stream",
     "text": [
      "Loss: 243.2289:  25%|██▍       | 4991/20000 [01:45<03:22, 74.21it/s]  "
     ]
    },
    {
     "name": "stderr",
     "output_type": "stream",
     "text": [
      "Loss: 243.2289:  25%|██▍       | 4992/20000 [01:55<03:22, 74.21it/s]"
     ]
    }
   ],
   "source": [
    "combo=[(50,W_50,Y_50,2),(100,W_100,Y_100,3),(200,W_200,Y_200,4),(300,W_300,Y_300,5)]\n",
    "\n",
    "Z_SIZE=200\n",
    "W=W_100\n",
    "\n",
    "print('Size')\n",
    "print('Z:', Z_SIZE, ' M:',W.size(1))\n",
    "\n",
    "generator = Generator(ngpu, nc, Z_SIZE, ngf).to(device)\n",
    "generator.load_state_dict(torch.load('bora_mnist_gan_Z='+str(Z_SIZE) +'_generator.pth'))\n",
    "generator.eval()\n",
    "\n",
    "z=torch.randn(1, Z_SIZE, 1, 1, device=device, requires_grad=True)\n",
    "x_hat = generator(z).squeeze(1)\n",
    "\n",
    "Y=torch.mm(x_hat.view(1,-1),W.to(device)).squeeze(0)\n",
    "\n",
    "Z_ITERS=20000\n",
    "LR=0.05\n",
    "LAMBDA=1\n",
    "\n",
    "z=torch.randn(1, Z_SIZE, 1, 1, device=device, requires_grad=True)\n",
    "optimizer = optim.NAdam([z], lr=LR, betas=(0.8, 0.999))\n",
    "z_bar=tqdm(range(Z_ITERS), position=0)\n",
    "\n",
    "best_loss=1000000000\n",
    "stuck_counter=0\n",
    "\n",
    "print('opt for z')\n",
    "for i in range(Z_ITERS):\n",
    "    optimizer.zero_grad()\n",
    "    loss=my_loss(Y, z, generator, W, phase_noise=False, alpha=LAMBDA)\n",
    "    if loss<best_loss:\n",
    "        best_loss=loss\n",
    "        stuck_counter=0\n",
    "    else:\n",
    "        stuck_counter+=1\n",
    "    if stuck_counter>1000:\n",
    "        break\n",
    "\n",
    "    loss.backward(retain_graph=True)\n",
    "    optimizer.step()\n",
    "    z_bar.set_description(\"Loss: {:.4f}\".format(loss.item()))\n",
    "    z_bar.update()\n",
    "\n",
    "z_opt=z.detach()\n",
    "\n",
    "torch.save(z_opt, 'z_opt_Z='+str(Z_SIZE)+'_NAdam.pth')"
   ]
  },
  {
   "cell_type": "code",
   "execution_count": 100,
   "metadata": {},
   "outputs": [
    {
     "name": "stderr",
     "output_type": "stream",
     "text": [
      "Loss: 243.2289:  25%|██▍       | 4992/20000 [02:30<07:31, 33.24it/s]\n",
      "Loss: 18036.6074:   0%|          | 3/20000 [00:00<16:16, 20.48it/s]"
     ]
    },
    {
     "name": "stdout",
     "output_type": "stream",
     "text": [
      "opt for z_phase:\n"
     ]
    },
    {
     "name": "stderr",
     "output_type": "stream",
     "text": [
      "Loss: 700.9225:  43%|████▎     | 8640/20000 [01:36<02:03, 91.99it/s]  "
     ]
    }
   ],
   "source": [
    "Z_ITERS=20000\n",
    "LR=0.1\n",
    "LAMBDA=1\n",
    "\n",
    "z_phase=torch.randn(1, Z_SIZE, 1, 1, device=device, requires_grad=True)\n",
    "optimizer = optim.NAdam([z_phase], lr=LR, betas=(0.5, 0.999),weight_decay=0.01,momentum_decay=0.001)\n",
    "z_bar=tqdm(range(Z_ITERS), position=0)\n",
    "\n",
    "best_loss=1000000000\n",
    "stuck_counter=0\n",
    "\n",
    "print('opt for z_phase:')\n",
    "for i in range(Z_ITERS):\n",
    "    optimizer.zero_grad()\n",
    "    loss=my_loss(Y, z_phase, generator, W, phase_noise=True, alpha=LAMBDA)\n",
    "\n",
    "    if loss<best_loss:\n",
    "        best_loss=loss\n",
    "        stuck_counter=0\n",
    "    else:\n",
    "        stuck_counter+=1\n",
    "    if stuck_counter>1000:\n",
    "        break\n",
    "\n",
    "    loss.backward(retain_graph=True)\n",
    "    optimizer.step()\n",
    "\n",
    "    z_bar.set_description(\"Loss: {:.4f}\".format(loss.item()))\n",
    "    z_bar.update()\n",
    "\n",
    "z_opt_phase=z_phase.detach()\n",
    "\n",
    "torch.save(z_opt_phase, 'z_opt_phase_Z='+str(Z_SIZE)+'_NAdam.pth')"
   ]
  },
  {
   "cell_type": "code",
   "execution_count": 101,
   "metadata": {},
   "outputs": [
    {
     "data": {
      "image/png": "[encoded data removed]",
      "text/plain": [
       "<Figure size 600x200 with 4 Axes>"
      ]
     },
     "metadata": {},
     "output_type": "display_data"
    },
    {
     "name": "stdout",
     "output_type": "stream",
     "text": [
      "ME - Case 1: 0.6125947570800782\n",
      "ME - Case 2: 1673.301875\n",
      "ME - Case 3: 2.2599102783203127\n"
     ]
    },
    {
     "name": "stderr",
     "output_type": "stream",
     "text": [
      "Loss: 700.9225:  43%|████▎     | 8641/20000 [01:55<02:03, 91.99it/s]"
     ]
    }
   ],
   "source": [
    "plt.figure(figsize=(6,2))\n",
    "plt.subplot(141)\n",
    "plt.imshow(x_hat.squeeze().detach().cpu().numpy(), cmap='gray')\n",
    "plt.title('Original Image')\n",
    "plt.axis('off')\n",
    "plt.subplot(142)\n",
    "plt.imshow(generator(z_opt).squeeze().detach().cpu().numpy(), cmap='gray')\n",
    "plt.title('Case 1')\n",
    "plt.axis('off')\n",
    "plt.subplot(143)\n",
    "plt.imshow(generator(torch.abs(z_opt)).squeeze().detach().cpu().numpy(), cmap='gray')\n",
    "plt.title('Case 2')\n",
    "plt.axis('off')\n",
    "plt.subplot(144)\n",
    "plt.imshow(generator(z_opt_phase).squeeze().detach().cpu().numpy(), cmap='gray')\n",
    "plt.title('Case 3')\n",
    "plt.axis('off')\n",
    "plt.suptitle(f'Z: {Z_SIZE} M: {W.size(1)}')\n",
    "plt.show()\n",
    "\n",
    "print('ME - Case 1:', measurement_error(generator,Y,W,phase_perturbation=False, z=z_opt))\n",
    "print('ME - Case 2:', measurement_error(generator,Y,W,phase_perturbation=True, case_3=False,z=z_opt))\n",
    "print('ME - Case 3:', measurement_error(generator,Y,W,phase_perturbation=True, case_3=True, z=z_opt_phase))\n",
    "    "
   ]
  }
 ],
 "metadata": {
  "kernelspec": {
   "display_name": "pytorch",
   "language": "python",
   "name": "python3"
  },
  "language_info": {
   "codemirror_mode": {
    "name": "ipython",
    "version": 3
   },
   "file_extension": ".py",
   "mimetype": "text/x-python",
   "name": "python",
   "nbconvert_exporter": "python",
   "pygments_lexer": "ipython3",
   "version": "3.9.16"
  }
 },
 "nbformat": 4,
 "nbformat_minor": 2
}

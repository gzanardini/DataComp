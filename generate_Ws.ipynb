{
 "cells": [
  {
   "cell_type": "code",
   "execution_count": 1,
   "metadata": {},
   "outputs": [
    {
     "name": "stdout",
     "output_type": "stream",
     "text": [
      "W_10 saved\n",
      "W_25 saved\n",
      "W_50 saved\n",
      "W_100 saved\n",
      "W_200 saved\n",
      "W_300 saved\n",
      "noise_10 saved\n",
      "noise_25 saved\n",
      "noise_50 saved\n",
      "noise_100 saved\n",
      "noise_200 saved\n",
      "noise_300 saved\n"
     ]
    }
   ],
   "source": [
    "import numpy as np\n",
    "\n",
    "# Generate matrix W of size 784 x m which can only take values of -1 or 1\n",
    "for m in [10, 25 ,50, 100, 200, 300]:\n",
    "    W = np.random.choice([-1, 1], size=(784, m))\n",
    "    np.save(f'W_{m}', W)\n",
    "    print(f'W_{m} saved')\n",
    "\n",
    "# create a random noise vector with mean 0 and std 1/m, and add it to the data\n",
    "for m in [10, 25 ,50, 100, 200, 300]:\n",
    "    noise = np.random.normal(0, 1/m, (600000,m))\n",
    "    np.save(f'noise_{m}', noise)\n",
    "    print(f'noise_{m} saved')"
   ]
  }
 ],
 "metadata": {
  "kernelspec": {
   "display_name": "pytorch",
   "language": "python",
   "name": "python3"
  },
  "language_info": {
   "codemirror_mode": {
    "name": "ipython",
    "version": 3
   },
   "file_extension": ".py",
   "mimetype": "text/x-python",
   "name": "python",
   "nbconvert_exporter": "python",
   "pygments_lexer": "ipython3",
   "version": "3.9.16"
  }
 },
 "nbformat": 4,
 "nbformat_minor": 2
}
